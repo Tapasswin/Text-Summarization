{
 "cells": [
  {
   "cell_type": "code",
   "execution_count": 1,
   "metadata": {},
   "outputs": [],
   "source": [
    "import os"
   ]
  },
  {
   "cell_type": "code",
   "execution_count": 2,
   "metadata": {},
   "outputs": [
    {
     "data": {
      "text/plain": [
       "'c:\\\\Users\\\\Manch\\\\Documents\\\\GitHub\\\\Text-Summarization\\\\research'"
      ]
     },
     "execution_count": 2,
     "metadata": {},
     "output_type": "execute_result"
    }
   ],
   "source": [
    "%pwd"
   ]
  },
  {
   "cell_type": "code",
   "execution_count": 3,
   "metadata": {},
   "outputs": [],
   "source": [
    "os.chdir(\"../\")"
   ]
  },
  {
   "cell_type": "code",
   "execution_count": 4,
   "metadata": {},
   "outputs": [
    {
     "data": {
      "text/plain": [
       "'c:\\\\Users\\\\Manch\\\\Documents\\\\GitHub\\\\Text-Summarization'"
      ]
     },
     "execution_count": 4,
     "metadata": {},
     "output_type": "execute_result"
    }
   ],
   "source": [
    "%pwd"
   ]
  },
  {
   "cell_type": "code",
   "execution_count": 5,
   "metadata": {},
   "outputs": [],
   "source": [
    "# Entities setting\n",
    "\n",
    "from dataclasses import dataclass\n",
    "from pathlib import Path\n",
    "\n",
    "@dataclass(frozen=True)\n",
    "class DataValidationConfig:\n",
    "    root_dir:Path\n",
    "    Status_file:str\n",
    "    All_required_files:list"
   ]
  },
  {
   "cell_type": "code",
   "execution_count": 13,
   "metadata": {},
   "outputs": [],
   "source": [
    "# Configaring the entities\n",
    "\n",
    "from TextSummerization.constants import *\n",
    "from TextSummerization.utils.common import read_yaml, create_directories\n",
    "\n",
    "class configurationManager:\n",
    "    def __init__(self, config_file=CONFIG_FILE_PATH, parma_file=PARAMS_FILE_PATH):\n",
    "        self.config = read_yaml(config_file)\n",
    "        self.params = read_yaml(parma_file)\n",
    "\n",
    "    \n",
    "    def get_data_validation_config(self) -> DataValidationConfig:\n",
    "        config = self.config.data_validation\n",
    "\n",
    "        create_directories([config.root_dir])\n",
    "\n",
    "        data_validation = DataValidationConfig(\n",
    "            root_dir= config.root_dir,\n",
    "            Status_file=config.Status_file,\n",
    "            All_required_files=config.All_required_files\n",
    "        )\n",
    "\n",
    "        return data_validation"
   ]
  },
  {
   "cell_type": "code",
   "execution_count": 14,
   "metadata": {},
   "outputs": [],
   "source": [
    "# Components creation validataion code will be here\n",
    "\n",
    "import os\n",
    "from TextSummerization import logger\n",
    "\n",
    "class DataValidation:\n",
    "    def __init__(self, config: DataValidationConfig):\n",
    "        self.config = config\n",
    "\n",
    "    def data_validation(self) -> bool:\n",
    "        try:\n",
    "\n",
    "            validation_status = None\n",
    "\n",
    "            all_req = os.listdir(os.path.join(\"artifacts\",\"data_ingestion\",\"samsum_dataset\"))\n",
    "\n",
    "            for file in all_req:\n",
    "                if file not in self.config.All_required_files:\n",
    "                    validation_status = False\n",
    "                    with open(self.config.Status_file, 'w') as file:\n",
    "                        file.write(f\"Validation Status: {validation_status}\")\n",
    "\n",
    "                else:\n",
    "                    validation_status = True\n",
    "                    with open(self.config.Status_file, 'w') as file:\n",
    "                        file.write(f\"Validation Status: {validation_status}\")\n",
    "        except Exception as e:\n",
    "            validation_status = \"ERROR\"\n",
    "            with open(self.config.Status_file, 'w') as file:\n",
    "                file.write(f\"Validation Status: {validation_status}\")\n",
    "            raise e\n",
    "\n",
    "\n"
   ]
  },
  {
   "cell_type": "code",
   "execution_count": 15,
   "metadata": {},
   "outputs": [
    {
     "name": "stdout",
     "output_type": "stream",
     "text": [
      "[2023-12-05 19:59:19,901: INFO: common: yaml file: config\\config.yaml loaded successfully]\n",
      "[2023-12-05 19:59:19,910: INFO: common: yaml file: params.yaml loaded successfully]\n",
      "[2023-12-05 19:59:19,910: INFO: common: created directory at: artifacts/data_validation]\n"
     ]
    }
   ],
   "source": [
    "try:\n",
    "    config = configurationManager()\n",
    "    data_validation_config = config.get_data_validation_config()\n",
    "    data_validation = DataValidation(config=data_validation_config)\n",
    "    data_validation.data_validation()\n",
    "except Exception as e:\n",
    "    raise e"
   ]
  },
  {
   "cell_type": "code",
   "execution_count": null,
   "metadata": {},
   "outputs": [],
   "source": []
  }
 ],
 "metadata": {
  "kernelspec": {
   "display_name": "Python 3",
   "language": "python",
   "name": "python3"
  },
  "language_info": {
   "codemirror_mode": {
    "name": "ipython",
    "version": 3
   },
   "file_extension": ".py",
   "mimetype": "text/x-python",
   "name": "python",
   "nbconvert_exporter": "python",
   "pygments_lexer": "ipython3",
   "version": "3.10.0"
  }
 },
 "nbformat": 4,
 "nbformat_minor": 2
}
